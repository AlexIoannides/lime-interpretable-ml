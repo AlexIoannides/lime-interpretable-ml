{
 "cells": [
  {
   "cell_type": "markdown",
   "metadata": {},
   "source": [
    "# Data Modelling\n",
    "Finally, we are now in a position where can easily try an assorment of ML models/algorithms and get a feel for what works and what does not. Then, we can focus on our preferred class of model and 'train the shit outta it'.\n",
    "\n",
    "## Experimental Setup\n",
    "Before we get going in earnest, there are some necessary tasks we need to complete to prevent repetition when investigating candidate models.\n",
    "\n",
    "### Load Training Data and Split into Inputs and Labels"
   ]
  },
  {
   "cell_type": "code",
   "execution_count": 2,
   "metadata": {},
   "outputs": [
    {
     "data": {
      "text/html": [
       "<div>\n",
       "<style>\n",
       "    .dataframe thead tr:only-child th {\n",
       "        text-align: right;\n",
       "    }\n",
       "\n",
       "    .dataframe thead th {\n",
       "        text-align: left;\n",
       "    }\n",
       "\n",
       "    .dataframe tbody tr th {\n",
       "        vertical-align: top;\n",
       "    }\n",
       "</style>\n",
       "<table border=\"1\" class=\"dataframe\">\n",
       "  <thead>\n",
       "    <tr style=\"text-align: right;\">\n",
       "      <th></th>\n",
       "      <th>longitude</th>\n",
       "      <th>latitude</th>\n",
       "      <th>housing_median_age</th>\n",
       "      <th>total_rooms</th>\n",
       "      <th>total_bedrooms</th>\n",
       "      <th>population</th>\n",
       "      <th>households</th>\n",
       "      <th>median_income</th>\n",
       "      <th>ocean_proximity</th>\n",
       "    </tr>\n",
       "  </thead>\n",
       "  <tbody>\n",
       "    <tr>\n",
       "      <th>0</th>\n",
       "      <td>-122.29</td>\n",
       "      <td>37.81</td>\n",
       "      <td>49.0</td>\n",
       "      <td>844.0</td>\n",
       "      <td>204.0</td>\n",
       "      <td>560.0</td>\n",
       "      <td>152.0</td>\n",
       "      <td>1.7500</td>\n",
       "      <td>NEAR BAY</td>\n",
       "    </tr>\n",
       "    <tr>\n",
       "      <th>1</th>\n",
       "      <td>-123.52</td>\n",
       "      <td>41.01</td>\n",
       "      <td>17.0</td>\n",
       "      <td>1564.0</td>\n",
       "      <td>345.0</td>\n",
       "      <td>517.0</td>\n",
       "      <td>222.0</td>\n",
       "      <td>2.1542</td>\n",
       "      <td>INLAND</td>\n",
       "    </tr>\n",
       "    <tr>\n",
       "      <th>2</th>\n",
       "      <td>-122.89</td>\n",
       "      <td>40.76</td>\n",
       "      <td>14.0</td>\n",
       "      <td>712.0</td>\n",
       "      <td>131.0</td>\n",
       "      <td>270.0</td>\n",
       "      <td>90.0</td>\n",
       "      <td>2.3958</td>\n",
       "      <td>INLAND</td>\n",
       "    </tr>\n",
       "    <tr>\n",
       "      <th>3</th>\n",
       "      <td>-118.36</td>\n",
       "      <td>34.26</td>\n",
       "      <td>34.0</td>\n",
       "      <td>3677.0</td>\n",
       "      <td>573.0</td>\n",
       "      <td>1598.0</td>\n",
       "      <td>568.0</td>\n",
       "      <td>6.8380</td>\n",
       "      <td>&lt;1H OCEAN</td>\n",
       "    </tr>\n",
       "    <tr>\n",
       "      <th>4</th>\n",
       "      <td>-121.48</td>\n",
       "      <td>38.57</td>\n",
       "      <td>38.0</td>\n",
       "      <td>2809.0</td>\n",
       "      <td>805.0</td>\n",
       "      <td>1243.0</td>\n",
       "      <td>785.0</td>\n",
       "      <td>1.8512</td>\n",
       "      <td>INLAND</td>\n",
       "    </tr>\n",
       "  </tbody>\n",
       "</table>\n",
       "</div>"
      ],
      "text/plain": [
       "   longitude  latitude  housing_median_age  total_rooms  total_bedrooms  \\\n",
       "0    -122.29     37.81                49.0        844.0           204.0   \n",
       "1    -123.52     41.01                17.0       1564.0           345.0   \n",
       "2    -122.89     40.76                14.0        712.0           131.0   \n",
       "3    -118.36     34.26                34.0       3677.0           573.0   \n",
       "4    -121.48     38.57                38.0       2809.0           805.0   \n",
       "\n",
       "   population  households  median_income ocean_proximity  \n",
       "0       560.0       152.0         1.7500        NEAR BAY  \n",
       "1       517.0       222.0         2.1542          INLAND  \n",
       "2       270.0        90.0         2.3958          INLAND  \n",
       "3      1598.0       568.0         6.8380       <1H OCEAN  \n",
       "4      1243.0       785.0         1.8512          INLAND  "
      ]
     },
     "execution_count": 2,
     "metadata": {},
     "output_type": "execute_result"
    }
   ],
   "source": [
    "import pandas as pd\n",
    "from sklearn.externals import joblib\n",
    "\n",
    "train_data = pd.read_csv('data/housing_train.csv')\n",
    "X = train_data.drop(['median_house_value'], axis=1)\n",
    "y = train_data['median_house_value']\n",
    "\n",
    "X.head(5)"
   ]
  },
  {
   "cell_type": "markdown",
   "metadata": {},
   "source": [
    "### Load Data Preparation Pipeline and Transform Training Data"
   ]
  },
  {
   "cell_type": "code",
   "execution_count": 3,
   "metadata": {},
   "outputs": [
    {
     "data": {
      "text/plain": [
       "array([[ 0.20517928,  0.56004251,  0.94117647, ...,  0.        ,\n",
       "         1.        ,  0.        ],\n",
       "       [ 0.08266932,  0.90010627,  0.31372549, ...,  0.        ,\n",
       "         0.        ,  0.        ],\n",
       "       [ 0.14541833,  0.87353879,  0.25490196, ...,  0.        ,\n",
       "         0.        ,  0.        ],\n",
       "       ..., \n",
       "       [ 0.25498008,  0.47715197,  0.33333333, ...,  0.        ,\n",
       "         0.        ,  0.        ],\n",
       "       [ 0.21115538,  0.77789586,  0.39215686, ...,  0.        ,\n",
       "         0.        ,  0.        ],\n",
       "       [ 0.72410359,  0.02019129,  0.68627451, ...,  0.        ,\n",
       "         0.        ,  1.        ]])"
      ]
     },
     "execution_count": 3,
     "metadata": {},
     "output_type": "execute_result"
    }
   ],
   "source": [
    "prep_pipeline = joblib.load('models/data_prep_pipeline.pkl')\n",
    "X_features = prep_pipeline.transform(X)\n",
    "\n",
    "X_features"
   ]
  },
  {
   "cell_type": "markdown",
   "metadata": {},
   "source": [
    "### Define Test Metrics\n",
    "As this is a regression task we will focus on the Root-Mean-Squared-Error (RMSE) as the metric used to evaluate candidate models."
   ]
  },
  {
   "cell_type": "code",
   "execution_count": 4,
   "metadata": {},
   "outputs": [],
   "source": [
    "import numpy as np\n",
    "from sklearn.metrics import mean_squared_error\n",
    "\n",
    "def rmse(model_fit, features, labels):\n",
    "    predictions = model_fit.predict(features)\n",
    "    rmse = np.sqrt(mean_squared_error(labels, predictions))\n",
    "    print('In-sample RMSE = {}'.format(rmse))\n",
    "    return None"
   ]
  },
  {
   "cell_type": "markdown",
   "metadata": {},
   "source": [
    "### Define Cross-Validation Experiment\n",
    "That is, the 'experiment' that we will use to test candidate models with."
   ]
  },
  {
   "cell_type": "code",
   "execution_count": 6,
   "metadata": {},
   "outputs": [],
   "source": [
    "from sklearn.cross_validation import cross_val_score\n",
    "\n",
    "def cv_results(model_fit, features, labels):\n",
    "    scores = cross_val_score(model_fit, features, labels, scoring='neg_mean_squared_error', cv=10)\n",
    "    cv_mean_rmse = np.sqrt(-scores).mean()\n",
    "    cv_std_rmse = np.sqrt(-scores).std()\n",
    "    print('Cross-Val RMSE = {} +/- {}'.format(cv_mean_rmse, cv_std_rmse))\n",
    "    return None"
   ]
  },
  {
   "cell_type": "markdown",
   "metadata": {},
   "source": [
    "## Candidate Model Evaluation\n",
    "Using the common evaluation metric (RMSE) defined above, we evaluate the performance of various models that are capable of addressing our regression task.\n",
    "\n",
    "### Linear Regression\n",
    "The canonical version that is (probably) implemented using matrix inversion techniques."
   ]
  },
  {
   "cell_type": "code",
   "execution_count": 8,
   "metadata": {},
   "outputs": [
    {
     "name": "stdout",
     "output_type": "stream",
     "text": [
      "In-sample RMSE = 68525.29495311581\n",
      "Cross-Val RMSE = 68636.46981758777 +/- 1323.5666250129927\n"
     ]
    }
   ],
   "source": [
    "from sklearn.linear_model import LinearRegression\n",
    "\n",
    "lin_reg = LinearRegression()\n",
    "lin_reg.fit(X_features, y)\n",
    "\n",
    "rmse(lin_reg, X_features, y)\n",
    "cv_results(lin_reg, X_features, y)"
   ]
  },
  {
   "cell_type": "markdown",
   "metadata": {},
   "source": [
    "### Regression Tree"
   ]
  },
  {
   "cell_type": "code",
   "execution_count": 9,
   "metadata": {},
   "outputs": [
    {
     "name": "stdout",
     "output_type": "stream",
     "text": [
      "In-sample RMSE = 0.0\n",
      "Cross-Val RMSE = 69006.70218088407 +/- 2849.7626776371403\n"
     ]
    }
   ],
   "source": [
    "from sklearn.tree import DecisionTreeRegressor\n",
    "\n",
    "tree_reg = DecisionTreeRegressor()\n",
    "tree_reg.fit(X_features, y)\n",
    "\n",
    "rmse(tree_reg, X_features, y)\n",
    "cv_results(tree_reg, X_features, y)"
   ]
  },
  {
   "cell_type": "markdown",
   "metadata": {},
   "source": [
    "### Random Forest Regressor"
   ]
  },
  {
   "cell_type": "code",
   "execution_count": 10,
   "metadata": {},
   "outputs": [
    {
     "name": "stdout",
     "output_type": "stream",
     "text": [
      "In-sample RMSE = 21996.257387259426\n",
      "Cross-Val RMSE = 51515.26692076928 +/- 1933.7208468766848\n"
     ]
    }
   ],
   "source": [
    "from sklearn.ensemble import RandomForestRegressor\n",
    "\n",
    "forest_reg = RandomForestRegressor()\n",
    "forest_reg.fit(X_features, y)\n",
    "\n",
    "rmse(forest_reg, X_features, y)\n",
    "cv_results(forest_reg, X_features, y)"
   ]
  },
  {
   "cell_type": "markdown",
   "metadata": {},
   "source": [
    "## Optimise Chosen Model Fit\n",
    "At a very high-level at it looks as if the Random Forest Regressor has the best performance out-of-the-box. This is not suprising given our finding during the 'Data Exploration' part of our example ML project workflow. Based on this, we will use grid-search to find the most optimal set of parameters to use for the final 'production' model."
   ]
  },
  {
   "cell_type": "code",
   "execution_count": 11,
   "metadata": {},
   "outputs": [
    {
     "name": "stdout",
     "output_type": "stream",
     "text": [
      "best parameters on grid: {'max_features': 8, 'n_estimators': 30}\n",
      "\n",
      "FULL RESULTS:\n",
      "63788.3183478 {'max_features': 2, 'n_estimators': 3}\n",
      "54864.8029282 {'max_features': 2, 'n_estimators': 10}\n",
      "52495.0865455 {'max_features': 2, 'n_estimators': 30}\n",
      "60092.1155531 {'max_features': 4, 'n_estimators': 3}\n",
      "52698.8850566 {'max_features': 4, 'n_estimators': 10}\n",
      "50439.2472852 {'max_features': 4, 'n_estimators': 30}\n",
      "59552.4508926 {'max_features': 6, 'n_estimators': 3}\n",
      "52693.7492042 {'max_features': 6, 'n_estimators': 10}\n",
      "50442.997996 {'max_features': 6, 'n_estimators': 30}\n",
      "57915.2017521 {'max_features': 8, 'n_estimators': 3}\n",
      "52307.9567731 {'max_features': 8, 'n_estimators': 10}\n",
      "49910.5230899 {'max_features': 8, 'n_estimators': 30}\n",
      "62026.5098691 {'bootstrap': False, 'max_features': 2, 'n_estimators': 3}\n",
      "53927.5590855 {'bootstrap': False, 'max_features': 2, 'n_estimators': 10}\n",
      "59121.1495665 {'bootstrap': False, 'max_features': 3, 'n_estimators': 3}\n",
      "52619.1437117 {'bootstrap': False, 'max_features': 3, 'n_estimators': 10}\n",
      "59090.0466924 {'bootstrap': False, 'max_features': 4, 'n_estimators': 3}\n",
      "52151.0665048 {'bootstrap': False, 'max_features': 4, 'n_estimators': 10}\n"
     ]
    }
   ],
   "source": [
    "from sklearn.model_selection import GridSearchCV\n",
    "\n",
    "forest_reg_param_grid = [\n",
    "    {'n_estimators': [3, 10, 30], 'max_features': [2, 4, 6, 8]},\n",
    "    {'bootstrap': [False], 'n_estimators': [3, 10], 'max_features': [2, 3, 4]}\n",
    "]\n",
    "\n",
    "forest_reg_grid = GridSearchCV(forest_reg, forest_reg_param_grid, cv=5, scoring='neg_mean_squared_error')\n",
    "forest_reg_grid.fit(X_features, y)\n",
    "\n",
    "print('best parameters on grid: {}'.format(forest_reg_grid.best_params_))\n",
    "print('\\nFULL RESULTS:')\n",
    "forest_reg_grid_res = forest_reg_grid.cv_results_\n",
    "for mean_score, params in zip(forest_reg_grid_res['mean_test_score'], forest_reg_grid_res['params']):\n",
    "    print(np.sqrt(-mean_score), params)"
   ]
  },
  {
   "cell_type": "markdown",
   "metadata": {},
   "source": [
    "### Persist the Best Fit\n",
    "Defending against the situation where we have to re-run this notebook to continue with the model analysis below. We will also be able to use this model as part of any 'production deployment' (see the README.md file in this directory for some remarks concerning this subject)."
   ]
  },
  {
   "cell_type": "code",
   "execution_count": 12,
   "metadata": {},
   "outputs": [
    {
     "data": {
      "text/plain": [
       "['models/forest_reg_opt.pkl']"
      ]
     },
     "execution_count": 12,
     "metadata": {},
     "output_type": "execute_result"
    }
   ],
   "source": [
    "from sklearn.externals import joblib\n",
    "\n",
    "forest_reg_opt = forest_reg_grid.best_estimator_\n",
    "joblib.dump(forest_reg_grid.best_estimator_, 'models/forest_reg_opt.pkl') "
   ]
  },
  {
   "cell_type": "markdown",
   "metadata": {},
   "source": [
    "## Model Analysis\n",
    "Having chosen a category of regression model and optimised it to the best of our abilities (subject to contraints on time and resources), we now analyse the model we intend for production deployment."
   ]
  },
  {
   "cell_type": "markdown",
   "metadata": {},
   "source": [
    "### Load Persisted Model\n",
    "Use the saved model as a verification of the mode serialisation above."
   ]
  },
  {
   "cell_type": "code",
   "execution_count": 13,
   "metadata": {},
   "outputs": [],
   "source": [
    "forest_reg_opt = joblib.load('models/forest_reg_opt.pkl')"
   ]
  },
  {
   "cell_type": "markdown",
   "metadata": {},
   "source": [
    "### Extract Feature Names from Pipeline\n",
    "Define a helper-functions to make model and pipeline analysis easier."
   ]
  },
  {
   "cell_type": "code",
   "execution_count": 14,
   "metadata": {},
   "outputs": [],
   "source": [
    "def get_pipline_union_contents(union_pl):\n",
    "    for pl in union_pl.transformer_list:\n",
    "        for tf in pl[1].named_steps:\n",
    "            print('{} : {}'.format(pl[0], tf))\n",
    "    return None\n",
    "\n",
    "def get_transformer(union_pl, nested_pl_name, trans_name):\n",
    "    pipeline = [p[1] for p in union_pl.transformer_list if p[0] == nested_pl_name]\n",
    "    transformer = pipeline[0].named_steps[trans_name]\n",
    "    return transformer\n",
    "\n",
    "def get_feature_names(union_pl, nested_pl_name, trans_name):\n",
    "    transformer = get_transformer(union_pl, nested_pl_name, trans_name)\n",
    "    return transformer.get_feature_names()"
   ]
  },
  {
   "cell_type": "markdown",
   "metadata": {},
   "source": [
    "Examine the contents of our unified data preparation pipeline."
   ]
  },
  {
   "cell_type": "code",
   "execution_count": 15,
   "metadata": {},
   "outputs": [
    {
     "name": "stdout",
     "output_type": "stream",
     "text": [
      "numeric_pipeline : var_selector\n",
      "numeric_pipeline : imputer\n",
      "numeric_pipeline : scaler\n",
      "categorical_pipeline : var_selector\n",
      "categorical_pipeline : categorical_encoder\n"
     ]
    }
   ],
   "source": [
    "get_pipline_union_contents(prep_pipeline)"
   ]
  },
  {
   "cell_type": "markdown",
   "metadata": {},
   "source": [
    "Extract the feature names from the appropriate transformers."
   ]
  },
  {
   "cell_type": "code",
   "execution_count": 16,
   "metadata": {},
   "outputs": [
    {
     "data": {
      "text/plain": [
       "['longitude',\n",
       " 'latitude',\n",
       " 'housing_median_age',\n",
       " 'total_rooms',\n",
       " 'total_bedrooms',\n",
       " 'population',\n",
       " 'households',\n",
       " 'median_income',\n",
       " '<1H OCEAN',\n",
       " 'INLAND',\n",
       " 'ISLAND',\n",
       " 'NEAR BAY',\n",
       " 'NEAR OCEAN']"
      ]
     },
     "execution_count": 16,
     "metadata": {},
     "output_type": "execute_result"
    }
   ],
   "source": [
    "num_feature_names = get_feature_names(prep_pipeline, 'numeric_pipeline', 'var_selector')\n",
    "cat_feature_names = get_feature_names(prep_pipeline, 'categorical_pipeline', 'categorical_encoder')\n",
    "feature_names = num_feature_names + cat_feature_names\n",
    "\n",
    "feature_names"
   ]
  },
  {
   "cell_type": "markdown",
   "metadata": {},
   "source": [
    "### Variable Importance\n",
    "This is an output that is specific to tree-based models."
   ]
  },
  {
   "cell_type": "code",
   "execution_count": 17,
   "metadata": {},
   "outputs": [
    {
     "name": "stdout",
     "output_type": "stream",
     "text": [
      "median_income : 0.4394533233446947\n",
      "INLAND : 0.1469820152003935\n",
      "longitude : 0.11584349603806172\n",
      "latitude : 0.10976918092082528\n",
      "housing_median_age : 0.05019750496888578\n",
      "population : 0.03752968117825898\n",
      "total_rooms : 0.031239989037963618\n",
      "total_bedrooms : 0.026429039229647767\n",
      "households : 0.025085247486174314\n",
      "<1H OCEAN : 0.008457885522067327\n",
      "NEAR OCEAN : 0.0064616312195871885\n",
      "NEAR BAY : 0.0023539007209756203\n",
      "ISLAND : 0.00019710513246429227\n"
     ]
    }
   ],
   "source": [
    "for feature, importance in sorted(zip(forest_reg_opt.feature_importances_, feature_names), reverse=True):\n",
    "    print('{} : {}'.format(importance, feature))"
   ]
  },
  {
   "cell_type": "markdown",
   "metadata": {},
   "source": [
    "From which we can see that `median_income` is the most important factor that could be attributed to `median_house_value`."
   ]
  },
  {
   "cell_type": "markdown",
   "metadata": {},
   "source": [
    "### Apply Model to Test Data\n",
    "Crunch time! Load the data that we have left untouched until now - mimicking what one might expect when a model is out 'in the wild' - and see how the model performs."
   ]
  },
  {
   "cell_type": "code",
   "execution_count": 18,
   "metadata": {},
   "outputs": [
    {
     "data": {
      "text/html": [
       "<div>\n",
       "<style>\n",
       "    .dataframe thead tr:only-child th {\n",
       "        text-align: right;\n",
       "    }\n",
       "\n",
       "    .dataframe thead th {\n",
       "        text-align: left;\n",
       "    }\n",
       "\n",
       "    .dataframe tbody tr th {\n",
       "        vertical-align: top;\n",
       "    }\n",
       "</style>\n",
       "<table border=\"1\" class=\"dataframe\">\n",
       "  <thead>\n",
       "    <tr style=\"text-align: right;\">\n",
       "      <th></th>\n",
       "      <th>longitude</th>\n",
       "      <th>latitude</th>\n",
       "      <th>housing_median_age</th>\n",
       "      <th>total_rooms</th>\n",
       "      <th>total_bedrooms</th>\n",
       "      <th>population</th>\n",
       "      <th>households</th>\n",
       "      <th>median_income</th>\n",
       "      <th>ocean_proximity</th>\n",
       "    </tr>\n",
       "  </thead>\n",
       "  <tbody>\n",
       "    <tr>\n",
       "      <th>0</th>\n",
       "      <td>-118.19</td>\n",
       "      <td>33.99</td>\n",
       "      <td>36.0</td>\n",
       "      <td>1273.0</td>\n",
       "      <td>379.0</td>\n",
       "      <td>1398.0</td>\n",
       "      <td>353.0</td>\n",
       "      <td>2.4516</td>\n",
       "      <td>&lt;1H OCEAN</td>\n",
       "    </tr>\n",
       "    <tr>\n",
       "      <th>1</th>\n",
       "      <td>-118.28</td>\n",
       "      <td>34.09</td>\n",
       "      <td>49.0</td>\n",
       "      <td>3828.0</td>\n",
       "      <td>1197.0</td>\n",
       "      <td>2862.0</td>\n",
       "      <td>1009.0</td>\n",
       "      <td>2.4677</td>\n",
       "      <td>&lt;1H OCEAN</td>\n",
       "    </tr>\n",
       "    <tr>\n",
       "      <th>2</th>\n",
       "      <td>-121.07</td>\n",
       "      <td>38.66</td>\n",
       "      <td>22.0</td>\n",
       "      <td>1831.0</td>\n",
       "      <td>274.0</td>\n",
       "      <td>813.0</td>\n",
       "      <td>269.0</td>\n",
       "      <td>4.6394</td>\n",
       "      <td>INLAND</td>\n",
       "    </tr>\n",
       "    <tr>\n",
       "      <th>3</th>\n",
       "      <td>-117.98</td>\n",
       "      <td>33.75</td>\n",
       "      <td>37.0</td>\n",
       "      <td>1264.0</td>\n",
       "      <td>274.0</td>\n",
       "      <td>783.0</td>\n",
       "      <td>273.0</td>\n",
       "      <td>3.3438</td>\n",
       "      <td>&lt;1H OCEAN</td>\n",
       "    </tr>\n",
       "    <tr>\n",
       "      <th>4</th>\n",
       "      <td>-121.79</td>\n",
       "      <td>36.68</td>\n",
       "      <td>22.0</td>\n",
       "      <td>6912.0</td>\n",
       "      <td>1513.0</td>\n",
       "      <td>3794.0</td>\n",
       "      <td>1455.0</td>\n",
       "      <td>3.0608</td>\n",
       "      <td>&lt;1H OCEAN</td>\n",
       "    </tr>\n",
       "  </tbody>\n",
       "</table>\n",
       "</div>"
      ],
      "text/plain": [
       "   longitude  latitude  housing_median_age  total_rooms  total_bedrooms  \\\n",
       "0    -118.19     33.99                36.0       1273.0           379.0   \n",
       "1    -118.28     34.09                49.0       3828.0          1197.0   \n",
       "2    -121.07     38.66                22.0       1831.0           274.0   \n",
       "3    -117.98     33.75                37.0       1264.0           274.0   \n",
       "4    -121.79     36.68                22.0       6912.0          1513.0   \n",
       "\n",
       "   population  households  median_income ocean_proximity  \n",
       "0      1398.0       353.0         2.4516       <1H OCEAN  \n",
       "1      2862.0      1009.0         2.4677       <1H OCEAN  \n",
       "2       813.0       269.0         4.6394          INLAND  \n",
       "3       783.0       273.0         3.3438       <1H OCEAN  \n",
       "4      3794.0      1455.0         3.0608       <1H OCEAN  "
      ]
     },
     "execution_count": 18,
     "metadata": {},
     "output_type": "execute_result"
    }
   ],
   "source": [
    "test_data = pd.read_csv('data/housing_test.csv')\n",
    "X_test = test_data.drop(['median_house_value'], axis=1)\n",
    "y_test = test_data['median_house_value'].values\n",
    "\n",
    "X_test.head(5)"
   ]
  },
  {
   "cell_type": "code",
   "execution_count": 20,
   "metadata": {},
   "outputs": [
    {
     "name": "stdout",
     "output_type": "stream",
     "text": [
      "In-sample RMSE = 47469.67862763674\n"
     ]
    }
   ],
   "source": [
    "X_test_features = prep_pipeline.transform(X_test)\n",
    "rmse(forest_reg_opt, X_test_features, y_test)"
   ]
  },
  {
   "cell_type": "markdown",
   "metadata": {},
   "source": [
    "This is better than the RMSE that we observed in our initia CV experiment! Now, we take a closer look at where the model performed well and where it did not."
   ]
  },
  {
   "cell_type": "code",
   "execution_count": 21,
   "metadata": {},
   "outputs": [
    {
     "data": {
      "text/plain": [
       "<matplotlib.axes._subplots.AxesSubplot at 0x11b540588>"
      ]
     },
     "execution_count": 21,
     "metadata": {},
     "output_type": "execute_result"
    },
    {
     "data": {
      "image/png": "[encoded data removed]",
      "text/plain": [
       "<matplotlib.figure.Figure at 0x113004e48>"
      ]
     },
     "metadata": {},
     "output_type": "display_data"
    }
   ],
   "source": [
    "%matplotlib inline\n",
    "\n",
    "predicted = forest_reg_opt.predict(X_test_features)\n",
    "abs_error = np.absolute(predicted - y_test)\n",
    "\n",
    "model_performance = pd.DataFrame(\n",
    "    np.concatenate([predicted.reshape((-1, 1)), y_test.reshape((-1, 1)), abs_error.reshape((-1, 1))], axis=1), \n",
    "    columns=['predicted', 'actual', 'abs_error']\n",
    ")\n",
    "\n",
    "model_performance.plot(kind='scatter', x='predicted', y='actual', alpha=0.1)"
   ]
  },
  {
   "cell_type": "markdown",
   "metadata": {},
   "source": [
    "### Brief Conclusions\n",
    "It is pretty clear that a lot of the error is coming from observed data points that appear to have been capped at 500,000. We observed in the 'Data Exploration' part of the ML project workflow, but did nothing about (consider this a 'decision in process'). If we can correct for this and spend some more time on finding the most optimal regression forest, then we may end up with a model that really is good enough to put into production!"
   ]
  },
  {
   "cell_type": "code",
   "execution_count": null,
   "metadata": {},
   "outputs": [],
   "source": []
  }
 ],
 "metadata": {
  "kernelspec": {
   "display_name": "Python 3",
   "language": "python",
   "name": "python3"
  },
  "language_info": {
   "codemirror_mode": {
    "name": "ipython",
    "version": 3
   },
   "file_extension": ".py",
   "mimetype": "text/x-python",
   "name": "python",
   "nbconvert_exporter": "python",
   "pygments_lexer": "ipython3",
   "version": "3.6.4"
  }
 },
 "nbformat": 4,
 "nbformat_minor": 2
}
