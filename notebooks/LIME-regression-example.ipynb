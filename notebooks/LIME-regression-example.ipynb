{
 "cells": [
  {
   "cell_type": "markdown",
   "metadata": {},
   "source": [
    "# Interpreting Black-Box Machine Learning Algorithms with LIME\n",
    "TODO"
   ]
  },
  {
   "cell_type": "code",
   "execution_count": 9,
   "metadata": {},
   "outputs": [],
   "source": [
    "%matplotlib inline\n",
    "\n",
    "import lime\n",
    "import numpy as np\n",
    "import pandas as pd\n",
    "import matplotlib.pyplot as plt"
   ]
  },
  {
   "cell_type": "markdown",
   "metadata": {},
   "source": [
    "## Load Data and Yield Pandas DataFrame\n",
    "Load the auction data from CSV file and take a glimpse. In practice, the data need not be in CSV format and could be collected via Spark and then transformed to a Pandas DataFrame directly from a Spark DataFrame, etc."
   ]
  },
  {
   "cell_type": "code",
   "execution_count": 10,
   "metadata": {},
   "outputs": [
    {
     "name": "stdout",
     "output_type": "stream",
     "text": [
      "<class 'pandas.core.frame.DataFrame'>\n",
      "RangeIndex: 6220 entries, 0 to 6219\n",
      "Data columns (total 11 columns):\n",
      "auction_id         6220 non-null int64\n",
      "avg_start_bid      6220 non-null float64\n",
      "product_types      6220 non-null float64\n",
      "auction_mech       6220 non-null object\n",
      "lots               6220 non-null int64\n",
      "BPL                6220 non-null float64\n",
      "RoR                6220 non-null float64\n",
      "auction_revenue    6220 non-null float64\n",
      "auction_value      6220 non-null float64\n",
      "country            6220 non-null object\n",
      "avg_reserve        6220 non-null float64\n",
      "dtypes: float64(7), int64(2), object(2)\n",
      "memory usage: 534.6+ KB\n"
     ]
    },
    {
     "data": {
      "text/html": [
       "<div>\n",
       "<style scoped>\n",
       "    .dataframe tbody tr th:only-of-type {\n",
       "        vertical-align: middle;\n",
       "    }\n",
       "\n",
       "    .dataframe tbody tr th {\n",
       "        vertical-align: top;\n",
       "    }\n",
       "\n",
       "    .dataframe thead th {\n",
       "        text-align: right;\n",
       "    }\n",
       "</style>\n",
       "<table border=\"1\" class=\"dataframe\">\n",
       "  <thead>\n",
       "    <tr style=\"text-align: right;\">\n",
       "      <th></th>\n",
       "      <th>auction_id</th>\n",
       "      <th>avg_start_bid</th>\n",
       "      <th>product_types</th>\n",
       "      <th>auction_mech</th>\n",
       "      <th>lots</th>\n",
       "      <th>BPL</th>\n",
       "      <th>RoR</th>\n",
       "      <th>auction_revenue</th>\n",
       "      <th>auction_value</th>\n",
       "      <th>country</th>\n",
       "      <th>avg_reserve</th>\n",
       "    </tr>\n",
       "  </thead>\n",
       "  <tbody>\n",
       "    <tr>\n",
       "      <th>0</th>\n",
       "      <td>1324</td>\n",
       "      <td>0.000000</td>\n",
       "      <td>0.822222</td>\n",
       "      <td>EnglishForward</td>\n",
       "      <td>45</td>\n",
       "      <td>11.066667</td>\n",
       "      <td>0.984284</td>\n",
       "      <td>35260.193359</td>\n",
       "      <td>994062.735352</td>\n",
       "      <td>TR</td>\n",
       "      <td>22090.283008</td>\n",
       "    </tr>\n",
       "    <tr>\n",
       "      <th>1</th>\n",
       "      <td>1325</td>\n",
       "      <td>0.000000</td>\n",
       "      <td>0.634615</td>\n",
       "      <td>EnglishForward</td>\n",
       "      <td>52</td>\n",
       "      <td>11.000000</td>\n",
       "      <td>0.000000</td>\n",
       "      <td>0.000000</td>\n",
       "      <td>975453.023438</td>\n",
       "      <td>TR</td>\n",
       "      <td>18758.711989</td>\n",
       "    </tr>\n",
       "    <tr>\n",
       "      <th>2</th>\n",
       "      <td>1326</td>\n",
       "      <td>0.161214</td>\n",
       "      <td>1.000000</td>\n",
       "      <td>EnglishForward</td>\n",
       "      <td>4</td>\n",
       "      <td>7.000000</td>\n",
       "      <td>0.774436</td>\n",
       "      <td>27755.481689</td>\n",
       "      <td>38372.630859</td>\n",
       "      <td>CZ</td>\n",
       "      <td>9593.157715</td>\n",
       "    </tr>\n",
       "    <tr>\n",
       "      <th>3</th>\n",
       "      <td>1327</td>\n",
       "      <td>0.000000</td>\n",
       "      <td>0.857143</td>\n",
       "      <td>EnglishForward</td>\n",
       "      <td>28</td>\n",
       "      <td>17.464286</td>\n",
       "      <td>0.933634</td>\n",
       "      <td>373000.000000</td>\n",
       "      <td>453479.647461</td>\n",
       "      <td>EU</td>\n",
       "      <td>16195.701695</td>\n",
       "    </tr>\n",
       "    <tr>\n",
       "      <th>4</th>\n",
       "      <td>1328</td>\n",
       "      <td>0.000000</td>\n",
       "      <td>0.820513</td>\n",
       "      <td>EnglishForward</td>\n",
       "      <td>39</td>\n",
       "      <td>11.487179</td>\n",
       "      <td>0.957757</td>\n",
       "      <td>328000.000000</td>\n",
       "      <td>340600.000000</td>\n",
       "      <td>EU</td>\n",
       "      <td>8733.333333</td>\n",
       "    </tr>\n",
       "  </tbody>\n",
       "</table>\n",
       "</div>"
      ],
      "text/plain": [
       "   auction_id  avg_start_bid  product_types    auction_mech  lots        BPL  \\\n",
       "0        1324       0.000000       0.822222  EnglishForward    45  11.066667   \n",
       "1        1325       0.000000       0.634615  EnglishForward    52  11.000000   \n",
       "2        1326       0.161214       1.000000  EnglishForward     4   7.000000   \n",
       "3        1327       0.000000       0.857143  EnglishForward    28  17.464286   \n",
       "4        1328       0.000000       0.820513  EnglishForward    39  11.487179   \n",
       "\n",
       "        RoR  auction_revenue  auction_value country   avg_reserve  \n",
       "0  0.984284     35260.193359  994062.735352      TR  22090.283008  \n",
       "1  0.000000         0.000000  975453.023438      TR  18758.711989  \n",
       "2  0.774436     27755.481689   38372.630859      CZ   9593.157715  \n",
       "3  0.933634    373000.000000  453479.647461      EU  16195.701695  \n",
       "4  0.957757    328000.000000  340600.000000      EU   8733.333333  "
      ]
     },
     "execution_count": 10,
     "metadata": {},
     "output_type": "execute_result"
    }
   ],
   "source": [
    "auction_eval = pd.read_csv('../data/auction_data.csv')\n",
    "\n",
    "auction_eval.info()\n",
    "auction_eval.head()"
   ]
  },
  {
   "cell_type": "markdown",
   "metadata": {},
   "source": [
    "### Data Description\n",
    "- **auction_id** - unique identifier for a single multi-lot online auction event;\n",
    "- **auction revenue** - revenue realised from all lots sold in a multi-lot online auction event;\n",
    "- **auction value** - the estimated value of all lots in a multi-lot online auction event (sum of reserve prices);\n",
    "- **RoR** - the average Return-on-Reserve for successfully sold lots in the multi-lot online auction event, computed as realised price divided by reserve price;\n",
    "- **lots** - the number of lots offered in the multi-lot online auction event;\n",
    "- **product_types** - the number of different product types offered in the multi-lot online auction event;\n",
    "- **avg_reserve** - the average reserve price over all lots in the multi-lot online auction event\n",
    "- **avg_start_bid** - the average starting-bid (expressed as a fraction of the reserve bid), over all lots in the multi-lot online auction event\n",
    "- **BPL** - the average number of bidders per-lot;\n",
    "- **auction_mech** - the auction mechanim used for the auction event (one of English Forward, Sealed Bid or Fixed Price); and,\n",
    "- **country** - the local market running the auction.\n",
    "\n",
    "### Initial Variable Selection\n",
    "We choose the following variables to use for trying to understand and predict RoR:\n",
    "- **lots** - with the aim for controlling for the presence of available alternatives;\n",
    "- **avg_reserve** - to control for lot value - e.g. lower value lots may see more bidders willing to go above the reserve and vice-versa;\n",
    "- **avg_start_bid** - to control for the presence of a public price signal (we may need to derive this);\n",
    "- **BPL** - we know from basic auction theory, that the more bidders there are, then the better the expected prices will be;\n",
    "- **auction_mech** - whether the lots were traded via English Forward (EF) or Sealed Bid (SB) auctions; and,\n",
    "- **country** - to control for differences between local markets."
   ]
  },
  {
   "cell_type": "code",
   "execution_count": 54,
   "metadata": {},
   "outputs": [],
   "source": [
    "RoR = ['RoR']\n",
    "model_vars = ['lots', 'product_types', 'avg_reserve', 'avg_start_bid', 'BPL', 'auction_mech', 'country']"
   ]
  },
  {
   "cell_type": "markdown",
   "metadata": {},
   "source": [
    "### Outlier Removal and other Dataset Filtering\n",
    "Some outliers have obviously still found their way into the data. So, we will limit our modelling dataset by filtering-out values that don't feel correct based on our knowledge of the data (and the issues embedded within it). As such, we will filter-out the top percentile of RoR values as we know there is ambiguity surrounding reserve prices. Likewise, we have spotted auction events with average reserve prices in the millions of Euros, so we will filter-out the top percentile of mean reserve price observations, as well.\n",
    "\n",
    "We will also exclude Fixed Price (FP) auction events from the dataset as the RoR for these auction events is fixed at 1 and all auction events where nothing was sold and nothing can be said about price and RoR (i.e. where auction revenue = 0)."
   ]
  },
  {
   "cell_type": "code",
   "execution_count": 55,
   "metadata": {},
   "outputs": [
    {
     "data": {
      "text/html": [
       "<div>\n",
       "<style scoped>\n",
       "    .dataframe tbody tr th:only-of-type {\n",
       "        vertical-align: middle;\n",
       "    }\n",
       "\n",
       "    .dataframe tbody tr th {\n",
       "        vertical-align: top;\n",
       "    }\n",
       "\n",
       "    .dataframe thead th {\n",
       "        text-align: right;\n",
       "    }\n",
       "</style>\n",
       "<table border=\"1\" class=\"dataframe\">\n",
       "  <thead>\n",
       "    <tr style=\"text-align: right;\">\n",
       "      <th></th>\n",
       "      <th>RoR</th>\n",
       "      <th>lots</th>\n",
       "      <th>product_types</th>\n",
       "      <th>avg_reserve</th>\n",
       "      <th>avg_start_bid</th>\n",
       "      <th>BPL</th>\n",
       "    </tr>\n",
       "  </thead>\n",
       "  <tbody>\n",
       "    <tr>\n",
       "      <th>count</th>\n",
       "      <td>4175.000000</td>\n",
       "      <td>4175.000000</td>\n",
       "      <td>4175.000000</td>\n",
       "      <td>4175.000000</td>\n",
       "      <td>4175.000000</td>\n",
       "      <td>4175.000000</td>\n",
       "    </tr>\n",
       "    <tr>\n",
       "      <th>mean</th>\n",
       "      <td>0.989743</td>\n",
       "      <td>48.491018</td>\n",
       "      <td>0.751323</td>\n",
       "      <td>11099.072681</td>\n",
       "      <td>0.205143</td>\n",
       "      <td>8.251535</td>\n",
       "    </tr>\n",
       "    <tr>\n",
       "      <th>std</th>\n",
       "      <td>0.140135</td>\n",
       "      <td>39.081027</td>\n",
       "      <td>0.183748</td>\n",
       "      <td>4910.386793</td>\n",
       "      <td>0.390067</td>\n",
       "      <td>4.722761</td>\n",
       "    </tr>\n",
       "    <tr>\n",
       "      <th>min</th>\n",
       "      <td>0.052569</td>\n",
       "      <td>1.000000</td>\n",
       "      <td>0.003030</td>\n",
       "      <td>400.000000</td>\n",
       "      <td>0.000000</td>\n",
       "      <td>1.000000</td>\n",
       "    </tr>\n",
       "    <tr>\n",
       "      <th>25%</th>\n",
       "      <td>0.921498</td>\n",
       "      <td>17.000000</td>\n",
       "      <td>0.666667</td>\n",
       "      <td>7378.053377</td>\n",
       "      <td>0.000000</td>\n",
       "      <td>3.833333</td>\n",
       "    </tr>\n",
       "    <tr>\n",
       "      <th>50%</th>\n",
       "      <td>1.000367</td>\n",
       "      <td>40.000000</td>\n",
       "      <td>0.780000</td>\n",
       "      <td>10218.566667</td>\n",
       "      <td>0.000000</td>\n",
       "      <td>8.700000</td>\n",
       "    </tr>\n",
       "    <tr>\n",
       "      <th>75%</th>\n",
       "      <td>1.041915</td>\n",
       "      <td>74.000000</td>\n",
       "      <td>0.868173</td>\n",
       "      <td>13731.054182</td>\n",
       "      <td>0.000000</td>\n",
       "      <td>11.673864</td>\n",
       "    </tr>\n",
       "    <tr>\n",
       "      <th>max</th>\n",
       "      <td>1.617087</td>\n",
       "      <td>516.000000</td>\n",
       "      <td>1.000000</td>\n",
       "      <td>30198.234375</td>\n",
       "      <td>1.000000</td>\n",
       "      <td>36.000000</td>\n",
       "    </tr>\n",
       "  </tbody>\n",
       "</table>\n",
       "</div>"
      ],
      "text/plain": [
       "               RoR         lots  product_types   avg_reserve  avg_start_bid  \\\n",
       "count  4175.000000  4175.000000    4175.000000   4175.000000    4175.000000   \n",
       "mean      0.989743    48.491018       0.751323  11099.072681       0.205143   \n",
       "std       0.140135    39.081027       0.183748   4910.386793       0.390067   \n",
       "min       0.052569     1.000000       0.003030    400.000000       0.000000   \n",
       "25%       0.921498    17.000000       0.666667   7378.053377       0.000000   \n",
       "50%       1.000367    40.000000       0.780000  10218.566667       0.000000   \n",
       "75%       1.041915    74.000000       0.868173  13731.054182       0.000000   \n",
       "max       1.617087   516.000000       1.000000  30198.234375       1.000000   \n",
       "\n",
       "               BPL  \n",
       "count  4175.000000  \n",
       "mean      8.251535  \n",
       "std       4.722761  \n",
       "min       1.000000  \n",
       "25%       3.833333  \n",
       "50%       8.700000  \n",
       "75%      11.673864  \n",
       "max      36.000000  "
      ]
     },
     "execution_count": 55,
     "metadata": {},
     "output_type": "execute_result"
    }
   ],
   "source": [
    "pctile_thold = 0.99\n",
    "\n",
    "model_data = (\n",
    "    auction_eval.copy()\n",
    "    .loc[(auction_eval['auction_revenue'] > 0)\n",
    "         & (auction_eval['auction_mech'] != 'FixedPrice')\n",
    "         & (auction_eval['RoR'] < auction_eval['RoR'].quantile(pctile_thold))\n",
    "         & (auction_eval['avg_reserve'] < auction_eval['avg_reserve'].quantile(pctile_thold)),\n",
    "         :]\n",
    "    .assign(country = auction_eval['country'].apply(lambda x: 'country_' + x),\n",
    "            auction_mech = auction_eval['auction_mech'].apply(lambda x: 'auction_mech_' + x))\n",
    "    [RoR + model_vars])\n",
    "\n",
    "desc_vars = [\n",
    "    'auction_id']\n",
    "\n",
    "model_data.describe()"
   ]
  },
  {
   "cell_type": "markdown",
   "metadata": {},
   "source": [
    "## Modelling XXX\n",
    "TODO"
   ]
  },
  {
   "cell_type": "markdown",
   "metadata": {},
   "source": [
    "### Data Preparation Pipeline\n",
    "We need to setup a data preparation pipeline for handling the systematic selection of features from the input DataFrame (and their mapping to a NumPy ndarray), feature scaling and handling (one-hot encoding) categorical data."
   ]
  },
  {
   "cell_type": "code",
   "execution_count": 50,
   "metadata": {},
   "outputs": [],
   "source": [
    "from sklearn.pipeline import Pipeline, FeatureUnion\n",
    "from sklearn.preprocessing import StandardScaler\n",
    "from custom_transformers import DataFrameAdapter, CategoricalFeatureEncoder\n",
    "\n",
    "numeric_cols = (\n",
    "    model_data[model_vars]\n",
    "    .select_dtypes(exclude=['object'])\n",
    "    .columns)\n",
    "\n",
    "numeric_pipeline = Pipeline([\n",
    "    ('var_selector', DataFrameAdapter(numeric_cols)),\n",
    "    ('scaler', StandardScaler())\n",
    "])\n",
    "\n",
    "categorical_cols = (\n",
    "    model_data[model_vars]\n",
    "    .select_dtypes(include=['object'])\n",
    "    .columns)\n",
    "\n",
    "categorical_pipeline = Pipeline([\n",
    "    ('var_selector', DataFrameAdapter(categorical_cols)),\n",
    "    ('categorical_encoder', CategoricalFeatureEncoder())\n",
    "])\n",
    "\n",
    "data_prep_pipeline = FeatureUnion([\n",
    "    ('numeric_pipeline', numeric_pipeline),\n",
    "    ('categorical_pipeline', categorical_pipeline)\n",
    "])\n",
    "\n",
    "y = (model_data\n",
    "     ['RoR']\n",
    "     .values\n",
    "     .reshape(-1, ))\n",
    "\n",
    "X = (data_prep_pipeline\n",
    "     .fit_transform(model_data[model_vars]))"
   ]
  },
  {
   "cell_type": "markdown",
   "metadata": {},
   "source": [
    "### Partition Data into Test and Train Sets"
   ]
  },
  {
   "cell_type": "code",
   "execution_count": 51,
   "metadata": {},
   "outputs": [
    {
     "name": "stdout",
     "output_type": "stream",
     "text": [
      "3340 samples in training dataset and 835 samples in test dataset\n"
     ]
    }
   ],
   "source": [
    "from sklearn.model_selection import train_test_split\n",
    "\n",
    "X_train, X_test, y_train, y_test = train_test_split(X, y, test_size = 0.2, random_state = 42)\n",
    "\n",
    "print('{} samples in training dataset and {} samples in test dataset'\n",
    "      .format(X_train.shape[0], X_test.shape[0]))"
   ]
  },
  {
   "cell_type": "markdown",
   "metadata": {},
   "source": [
    "### Define Experimental Setup\n",
    "We will use RMSE as a test metric and 5-fold cross validation to get a basic estimate of the model's performance out-of-sample."
   ]
  },
  {
   "cell_type": "code",
   "execution_count": 52,
   "metadata": {},
   "outputs": [],
   "source": [
    "from sklearn.model_selection import cross_val_score\n",
    "from sklearn.metrics import mean_squared_error\n",
    "\n",
    "def rmse(model_fit, features, labels):\n",
    "    predictions = model_fit.predict(features)\n",
    "    rmse = np.sqrt(mean_squared_error(labels, predictions))\n",
    "    print('In-sample RMSE = {}'.format(rmse))\n",
    "    return None\n",
    "\n",
    "def cv_results(model_fit, features, labels):\n",
    "    scores = cross_val_score(model_fit, features, labels, scoring='neg_mean_squared_error', cv=5)\n",
    "    cv_mean_rmse = np.sqrt(-scores).mean()\n",
    "    cv_std_rmse = np.sqrt(-scores).std()\n",
    "    print('Cross-Val RMSE = {} +/- {}'.format(cv_mean_rmse, cv_std_rmse))\n",
    "    return None"
   ]
  },
  {
   "cell_type": "markdown",
   "metadata": {},
   "source": [
    "### Estimate XX Regression Model\n",
    "As a control (or reference point) to our Bayesian inference models we will also estimate a linear regression using stochastic gradient descenet methods (as these are more stable than OLS matrix inversions)."
   ]
  },
  {
   "cell_type": "code",
   "execution_count": 53,
   "metadata": {},
   "outputs": [
    {
     "name": "stdout",
     "output_type": "stream",
     "text": [
      "In-sample RMSE = 0.044534549204925784\n",
      "Cross-Val RMSE = 0.10808254561586661 +/- 0.00833171130201439\n"
     ]
    }
   ],
   "source": [
    "from sklearn.ensemble import RandomForestRegressor\n",
    "\n",
    "forest_reg = RandomForestRegressor()\n",
    "forest_reg.fit(X_train, y_train)\n",
    "\n",
    "rmse(forest_reg, X_train, y_train)\n",
    "cv_results(forest_reg, X_train, y_train)"
   ]
  },
  {
   "cell_type": "markdown",
   "metadata": {},
   "source": [
    "We proceed to use grid search to find the best set of hyper-parameters."
   ]
  },
  {
   "cell_type": "code",
   "execution_count": 65,
   "metadata": {},
   "outputs": [
    {
     "name": "stdout",
     "output_type": "stream",
     "text": [
      "best parameters on grid: {'bootstrap': True, 'max_features': 4, 'n_estimators': 50, 'random_state': 42}\n",
      "\n",
      "FULL RESULTS:\n",
      "0.11281053769419164 {'bootstrap': True, 'max_features': 2, 'n_estimators': 5, 'random_state': 42}\n",
      "0.10875253223503209 {'bootstrap': True, 'max_features': 2, 'n_estimators': 10, 'random_state': 42}\n",
      "0.10611284762006593 {'bootstrap': True, 'max_features': 2, 'n_estimators': 20, 'random_state': 42}\n",
      "0.10504525807217627 {'bootstrap': True, 'max_features': 2, 'n_estimators': 30, 'random_state': 42}\n",
      "0.10453457299758263 {'bootstrap': True, 'max_features': 2, 'n_estimators': 50, 'random_state': 42}\n",
      "0.11305090253951108 {'bootstrap': True, 'max_features': 3, 'n_estimators': 5, 'random_state': 42}\n",
      "0.10885223845761703 {'bootstrap': True, 'max_features': 3, 'n_estimators': 10, 'random_state': 42}\n",
      "0.10586383082999014 {'bootstrap': True, 'max_features': 3, 'n_estimators': 20, 'random_state': 42}\n",
      "0.1046482737010976 {'bootstrap': True, 'max_features': 3, 'n_estimators': 30, 'random_state': 42}\n",
      "0.10438973050301933 {'bootstrap': True, 'max_features': 3, 'n_estimators': 50, 'random_state': 42}\n",
      "0.11160949464433281 {'bootstrap': True, 'max_features': 4, 'n_estimators': 5, 'random_state': 42}\n",
      "0.10652258877823388 {'bootstrap': True, 'max_features': 4, 'n_estimators': 10, 'random_state': 42}\n",
      "0.10450230716323308 {'bootstrap': True, 'max_features': 4, 'n_estimators': 20, 'random_state': 42}\n",
      "0.10410311098275468 {'bootstrap': True, 'max_features': 4, 'n_estimators': 30, 'random_state': 42}\n",
      "0.10342249425769713 {'bootstrap': True, 'max_features': 4, 'n_estimators': 50, 'random_state': 42}\n",
      "0.11297761581861106 {'bootstrap': True, 'max_features': 5, 'n_estimators': 5, 'random_state': 42}\n",
      "0.10696181977142218 {'bootstrap': True, 'max_features': 5, 'n_estimators': 10, 'random_state': 42}\n",
      "0.10528799800512068 {'bootstrap': True, 'max_features': 5, 'n_estimators': 20, 'random_state': 42}\n",
      "0.1037098302656094 {'bootstrap': True, 'max_features': 5, 'n_estimators': 30, 'random_state': 42}\n",
      "0.10377486695418243 {'bootstrap': True, 'max_features': 5, 'n_estimators': 50, 'random_state': 42}\n",
      "0.11109178173541824 {'bootstrap': True, 'max_features': 6, 'n_estimators': 5, 'random_state': 42}\n",
      "0.10825463568453404 {'bootstrap': True, 'max_features': 6, 'n_estimators': 10, 'random_state': 42}\n",
      "0.10612773272006797 {'bootstrap': True, 'max_features': 6, 'n_estimators': 20, 'random_state': 42}\n",
      "0.1050667524822102 {'bootstrap': True, 'max_features': 6, 'n_estimators': 30, 'random_state': 42}\n",
      "0.10407634161281594 {'bootstrap': True, 'max_features': 6, 'n_estimators': 50, 'random_state': 42}\n",
      "0.115051306597528 {'bootstrap': True, 'max_features': 7, 'n_estimators': 5, 'random_state': 42}\n",
      "0.10885614159856767 {'bootstrap': True, 'max_features': 7, 'n_estimators': 10, 'random_state': 42}\n",
      "0.10620369340604277 {'bootstrap': True, 'max_features': 7, 'n_estimators': 20, 'random_state': 42}\n",
      "0.10506224706853523 {'bootstrap': True, 'max_features': 7, 'n_estimators': 30, 'random_state': 42}\n",
      "0.10433629925976241 {'bootstrap': True, 'max_features': 7, 'n_estimators': 50, 'random_state': 42}\n",
      "0.11399938667670223 {'bootstrap': False, 'max_features': 2, 'n_estimators': 5, 'random_state': 42}\n",
      "0.10961957574183727 {'bootstrap': False, 'max_features': 2, 'n_estimators': 10, 'random_state': 42}\n",
      "0.10587548117641842 {'bootstrap': False, 'max_features': 2, 'n_estimators': 20, 'random_state': 42}\n",
      "0.10600690363084632 {'bootstrap': False, 'max_features': 2, 'n_estimators': 30, 'random_state': 42}\n",
      "0.10597611925235946 {'bootstrap': False, 'max_features': 2, 'n_estimators': 50, 'random_state': 42}\n",
      "0.11174832781971523 {'bootstrap': False, 'max_features': 3, 'n_estimators': 5, 'random_state': 42}\n",
      "0.1083205433151979 {'bootstrap': False, 'max_features': 3, 'n_estimators': 10, 'random_state': 42}\n",
      "0.1066986651036994 {'bootstrap': False, 'max_features': 3, 'n_estimators': 20, 'random_state': 42}\n",
      "0.10646428928940724 {'bootstrap': False, 'max_features': 3, 'n_estimators': 30, 'random_state': 42}\n",
      "0.10585727611803848 {'bootstrap': False, 'max_features': 3, 'n_estimators': 50, 'random_state': 42}\n",
      "0.11402125435297115 {'bootstrap': False, 'max_features': 4, 'n_estimators': 5, 'random_state': 42}\n",
      "0.10975868252719694 {'bootstrap': False, 'max_features': 4, 'n_estimators': 10, 'random_state': 42}\n",
      "0.10731732624397028 {'bootstrap': False, 'max_features': 4, 'n_estimators': 20, 'random_state': 42}\n",
      "0.10695527339872982 {'bootstrap': False, 'max_features': 4, 'n_estimators': 30, 'random_state': 42}\n",
      "0.10611582663838778 {'bootstrap': False, 'max_features': 4, 'n_estimators': 50, 'random_state': 42}\n",
      "0.11368444162406552 {'bootstrap': False, 'max_features': 5, 'n_estimators': 5, 'random_state': 42}\n",
      "0.10918976829654964 {'bootstrap': False, 'max_features': 5, 'n_estimators': 10, 'random_state': 42}\n",
      "0.10738221796752563 {'bootstrap': False, 'max_features': 5, 'n_estimators': 20, 'random_state': 42}\n",
      "0.1065080532343681 {'bootstrap': False, 'max_features': 5, 'n_estimators': 30, 'random_state': 42}\n",
      "0.1062600864096934 {'bootstrap': False, 'max_features': 5, 'n_estimators': 50, 'random_state': 42}\n",
      "0.11323879740021144 {'bootstrap': False, 'max_features': 6, 'n_estimators': 5, 'random_state': 42}\n",
      "0.10938890942425034 {'bootstrap': False, 'max_features': 6, 'n_estimators': 10, 'random_state': 42}\n",
      "0.10734788278792749 {'bootstrap': False, 'max_features': 6, 'n_estimators': 20, 'random_state': 42}\n",
      "0.10624641627926898 {'bootstrap': False, 'max_features': 6, 'n_estimators': 30, 'random_state': 42}\n",
      "0.10580880359001531 {'bootstrap': False, 'max_features': 6, 'n_estimators': 50, 'random_state': 42}\n",
      "0.11114946633309522 {'bootstrap': False, 'max_features': 7, 'n_estimators': 5, 'random_state': 42}\n",
      "0.10844600942835207 {'bootstrap': False, 'max_features': 7, 'n_estimators': 10, 'random_state': 42}\n",
      "0.10721353751724091 {'bootstrap': False, 'max_features': 7, 'n_estimators': 20, 'random_state': 42}\n",
      "0.10654815389450947 {'bootstrap': False, 'max_features': 7, 'n_estimators': 30, 'random_state': 42}\n",
      "0.10602410116530137 {'bootstrap': False, 'max_features': 7, 'n_estimators': 50, 'random_state': 42}\n"
     ]
    }
   ],
   "source": [
    "from sklearn.model_selection import GridSearchCV\n",
    "\n",
    "forest_reg_param_grid = [{\n",
    "    'bootstrap': [True, False], \n",
    "    'n_estimators': [5, 10, 20, 30, 50], \n",
    "    'max_features': [2, 3, 4, 5, 6, 7],\n",
    "    'random_state' : [42]\n",
    "}]\n",
    "\n",
    "forest_reg_grid = GridSearchCV(forest_reg, forest_reg_param_grid, cv=5, scoring='neg_mean_squared_error')\n",
    "forest_reg_grid.fit(X_train, y_train)\n",
    "\n",
    "print('best parameters on grid: {}'.format(forest_reg_grid.best_params_))\n",
    "print('\\nFULL RESULTS:')\n",
    "forest_reg_grid_res = forest_reg_grid.cv_results_\n",
    "for mean_score, params in zip(forest_reg_grid_res['mean_test_score'], forest_reg_grid_res['params']):\n",
    "    print(np.sqrt(-mean_score), params)\n",
    "    \n",
    "forest_reg_opt = forest_reg_grid.best_estimator_    "
   ]
  },
  {
   "cell_type": "markdown",
   "metadata": {},
   "source": [
    "We now use the best-fit model to score the test dataset."
   ]
  },
  {
   "cell_type": "code",
   "execution_count": 66,
   "metadata": {},
   "outputs": [
    {
     "name": "stdout",
     "output_type": "stream",
     "text": [
      "In-sample RMSE = 0.10231963542660905\n"
     ]
    },
    {
     "data": {
      "image/png": "[encoded data removed]",
      "text/plain": [
       "<matplotlib.figure.Figure at 0x1116c10b8>"
      ]
     },
     "metadata": {},
     "output_type": "display_data"
    }
   ],
   "source": [
    "predicted = forest_reg_opt .predict(X_test)\n",
    "error = predicted - y_test\n",
    "abs_error = np.absolute(error)\n",
    "\n",
    "model_performance = pd.DataFrame(\n",
    "    np.concatenate([predicted.reshape((-1, 1)), y_test.reshape((-1, 1)), \n",
    "                    error.reshape((-1, 1)), abs_error.reshape((-1, 1))], axis=1), \n",
    "    columns=['predicted', 'actual', 'error', 'abs_error']\n",
    ")\n",
    "\n",
    "print('In-sample RMSE = {}'.format(np.sqrt(np.mean(error ** 2))))\n",
    "\n",
    "plt = model_performance.plot(kind='scatter', x='predicted', y='actual', alpha=0.1, xlim=[0, 2], ylim=[0, 2])"
   ]
  },
  {
   "cell_type": "markdown",
   "metadata": {},
   "source": [
    "## Model Interpretation using LIME\n",
    "TODO"
   ]
  },
  {
   "cell_type": "code",
   "execution_count": 31,
   "metadata": {},
   "outputs": [],
   "source": [
    "# TODO"
   ]
  }
 ],
 "metadata": {
  "kernelspec": {
   "display_name": "lime",
   "language": "python",
   "name": "lime"
  },
  "language_info": {
   "codemirror_mode": {
    "name": "ipython",
    "version": 3
   },
   "file_extension": ".py",
   "mimetype": "text/x-python",
   "name": "python",
   "nbconvert_exporter": "python",
   "pygments_lexer": "ipython3",
   "version": "3.6.4"
  }
 },
 "nbformat": 4,
 "nbformat_minor": 2
}
